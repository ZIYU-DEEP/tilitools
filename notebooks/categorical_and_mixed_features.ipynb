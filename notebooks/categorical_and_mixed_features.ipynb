{
 "cells": [
  {
   "cell_type": "markdown",
   "metadata": {},
   "source": [
    "# Categorical Features, One-hot Encoding and Dimensionality Reduction\n",
    "\n",
    "This notebook contains code and corresponding explanations for handling of categorical data, i.e. pitfalls when using one-hot encoding with subsequent PCA."
   ]
  },
  {
   "cell_type": "code",
   "execution_count": 1,
   "metadata": {},
   "outputs": [],
   "source": [
    "%matplotlib inline\n",
    "import numpy as np\n",
    "import matplotlib.pyplot as plt"
   ]
  },
  {
   "cell_type": "markdown",
   "metadata": {},
   "source": [
    "### Data Generation\n",
    "The next block contains the main method for generating samples.\n",
    "~~~\n",
    "    n_samples : number of (random)samples to generate\n",
    "        n_cat : number of categorical features \n",
    "   n_cat_bins : number of discrete values for each categorical feature\n",
    "       n_cont : number of additional continuous Gaussian random features\n",
    "       center : (Boolean) subtract the mean\n",
    "    normalize : (Boolean) subtract the mean, normalize each feature to be in range [-1, +1]\n",
    "       whiten : (Boolean) subtract the mean, normalize each feature to have unit variance.\n",
    "       return : (n_cat*n_cat_bins+n_cont) x n_samples numpy array\n",
    "~~~"
   ]
  },
  {
   "cell_type": "code",
   "execution_count": 164,
   "metadata": {},
   "outputs": [],
   "source": [
    "def generate_mixed_attribute_samples(n_samples=100, n_cat=1, n_cat_bins=5, n_cont=0, \n",
    "                                     center=False, normalize=False, whiten=False):\n",
    "    samples = np.zeros((n_cat * n_cat_bins + n_cont, n_samples), dtype=np.float)\n",
    "    labels = np.zeros((n_cat, n_samples), dtype=np.int)\n",
    "    cnt = 0\n",
    "    for n in range(n_cat):\n",
    "        d = np.random.randint(0, n_cat_bins, size=n_samples)\n",
    "        labels[n_cat, :] = d\n",
    "        for b in range(n_cat_bins):\n",
    "            samples[cnt + b, d==b] = 1.\n",
    "        cnt += n_cat_bins\n",
    "    samples[cnt:, :] = 0.1*np.random.randn(n_cont, n_samples)\n",
    "    if center:\n",
    "        samples -= np.mean(samples, axis=1)[:, np.newaxis]\n",
    "    if normalize:\n",
    "        samples -= np.mean(samples, axis=1)[:, np.newaxis]\n",
    "        samples /= np.max(np.abs(samples), axis=1)[:, np.newaxis]\n",
    "        print(np.max(samples, axis=1))\n",
    "    if whiten:\n",
    "        samples -= np.mean(samples, axis=1)[:, np.newaxis]\n",
    "        samples /= np.std(samples, axis=1)[:, np.newaxis]        \n",
    "        print(np.var(samples, axis=1))\n",
    "    return samples"
   ]
  },
  {
   "cell_type": "code",
   "execution_count": 251,
   "metadata": {},
   "outputs": [
    {
     "data": {
      "text/plain": [
       "<matplotlib.colorbar.Colorbar at 0x1317c0668>"
      ]
     },
     "execution_count": 251,
     "metadata": {},
     "output_type": "execute_result"
    },
    {
     "data": {
      "image/png": "[encoded data removed]",
      "text/plain": [
       "<matplotlib.figure.Figure at 0x1314545c0>"
      ]
     },
     "metadata": {},
     "output_type": "display_data"
    }
   ],
   "source": [
    "X = generate_mixed_attribute_samples(n_samples=100, n_cat=1, n_cat_bins=3, n_cont=0, \n",
    "                                     center=True, normalize=False, whiten=False)\n",
    "C = X.dot(X.T) / X.shape[1]\n",
    "plt.subplot(1, 2, 1)\n",
    "plt.pcolor(X.T)\n",
    "plt.colorbar()\n",
    "plt.subplot(1, 2, 2)\n",
    "plt.pcolor(C)\n",
    "plt.colorbar()"
   ]
  },
  {
   "cell_type": "code",
   "execution_count": 250,
   "metadata": {},
   "outputs": [
    {
     "data": {
      "text/plain": [
       "<matplotlib.colorbar.Colorbar at 0x131642ba8>"
      ]
     },
     "execution_count": 250,
     "metadata": {},
     "output_type": "execute_result"
    },
    {
     "data": {
      "image/png": "[encoded data removed]",
      "text/plain": [
       "<matplotlib.figure.Figure at 0x131487208>"
      ]
     },
     "metadata": {},
     "output_type": "display_data"
    }
   ],
   "source": [
    "u, v = np.linalg.eig(C)\n",
    "inds = np.argsort(u)  # sort ascending\n",
    "u = u[inds]\n",
    "v = v[inds, :]\n",
    "Xr = v[1:, :].dot(np.diag(u)).dot(X)\n",
    "plt.subplot(1, 2, 1)\n",
    "# plt.pcolor(X.T)\n",
    "# plt.colorbar()\n",
    "plt.bar(np.arange(u.size), u)\n",
    "plt.xticks(np.arange(u.size), np.arange(u.size)+1)\n",
    "\n",
    "# plt.subplot(1, 2, 2)\n",
    "# plt.pcolor(v.dot(np.diag(u).dot(v.T)))\n",
    "# plt.colorbar()\n",
    "plt.subplot(1, 2, 2)\n",
    "plt.pcolor(Xr.T)\n",
    "plt.colorbar()"
   ]
  },
  {
   "cell_type": "code",
   "execution_count": null,
   "metadata": {},
   "outputs": [],
   "source": []
  }
 ],
 "metadata": {
  "kernelspec": {
   "display_name": "Python 3",
   "language": "python",
   "name": "python3"
  },
  "language_info": {
   "codemirror_mode": {
    "name": "ipython",
    "version": 3
   },
   "file_extension": ".py",
   "mimetype": "text/x-python",
   "name": "python",
   "nbconvert_exporter": "python",
   "pygments_lexer": "ipython3",
   "version": "3.6.3"
  }
 },
 "nbformat": 4,
 "nbformat_minor": 1
}
